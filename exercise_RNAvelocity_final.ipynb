{
 "cells": [
  {
   "cell_type": "markdown",
   "id": "cf01286f978d49e4",
   "metadata": {},
   "source": [
    "# Autumn School 2025: Exercise on RNA velocity\n",
    "\n",
    "## Objectives\n",
    "\n",
    "In this notebook, we will explore methods to infere progression of cells using RNA velocity and pseudotime. We will explore how both methods work and how they can be used to infer progression of cells along a trajectory. We will also compare the two methods and discuss their advantages and disadvantages.\n",
    "\n",
    "For more in depth information, visit their respective documentation pages:\n",
    "- [scVelo documentation](https://scvelo.readthedocs.io/en/stable)\n",
    "- [Scanpy documentation](https://scanpy.readthedocs.io/en/stable)"
   ]
  },
  {
   "cell_type": "markdown",
   "id": "9203b1c8967d8ca4",
   "metadata": {},
   "source": [
    "## Setup\n",
    "\n",
    "To run this notebook you need to install the following packages:\n"
   ]
  },
  {
   "metadata": {},
   "cell_type": "code",
   "source": "!pip install scanpy scvelo igraph tqdm ipywidgets fa2-modified scikit-misc notebook ipykernel",
   "id": "eb8976d08e86829b",
   "outputs": [],
   "execution_count": null
  },
  {
   "cell_type": "markdown",
   "id": "c392e0cc-cd08-441d-94e7-e5be4e284cda",
   "metadata": {},
   "source": [
    "# Data Preparation\n",
    "\n",
    "Before we begin, we need to import the packages and data. We use an already clustered dataset two avoid having to start from scratch."
   ]
  },
  {
   "cell_type": "code",
   "id": "3c59afe7e79b4e25",
   "metadata": {
    "jupyter": {
     "is_executing": true
    }
   },
   "source": [
    "# Imports\n",
    "import scvelo as scv\n",
    "import scanpy as sc\n",
    "import pandas as pd\n",
    "import matplotlib.pyplot as plt\n",
    "import numpy as np"
   ],
   "outputs": [],
   "execution_count": null
  },
  {
   "cell_type": "code",
   "id": "f89085964a4bcc0f",
   "metadata": {},
   "source": [
    "scv.settings.verbosity = 0  # show errors(0), warnings(1), info(2), hints(3)\n",
    "scv.settings.presenter_view = True  # set max width size for presenter view\n",
    "scv.set_figure_params('scvelo')  # for beautified visualization"
   ],
   "outputs": [],
   "execution_count": null
  },
  {
   "cell_type": "code",
   "id": "d5f5c29aae2ceab5",
   "metadata": {},
   "source": [
    "adata = scv.datasets.pancreas()"
   ],
   "outputs": [],
   "execution_count": null
  },
  {
   "cell_type": "markdown",
   "id": "0aee28f6",
   "metadata": {},
   "source": [
    "### ✏️ Exercise 1: Explore the Dataset\n",
    "Take a look at the `adata` object that was just loaded. Answer:\n",
    "- What kind of information is stored in `adata.obs`?\n",
    "- How many cells and genes are in this dataset?\n",
    "\n",
    "👉 Try using commands like `adata.obs.head()` or `adata.shape`."
   ]
  },
  {
   "cell_type": "markdown",
   "id": "f959b87bbdede2b0",
   "metadata": {},
   "source": [
    "We visualize the splicing proportions. As the RNA velocity is based on both spliced and unspliced, it is important to get an overview, not just of the overall proportions but also the proportions in each cluster:"
   ]
  },
  {
   "cell_type": "code",
   "id": "270ffbb9a939b6aa",
   "metadata": {},
   "source": [
    "# Proportions of spliced and unspliced mRNA.\n",
    "## Needs clusters in case of dataset change\n",
    "ax = scv.pl.proportions(adata)"
   ],
   "outputs": [],
   "execution_count": null
  },
  {
   "cell_type": "markdown",
   "id": "dccd54fd",
   "metadata": {},
   "source": [
    "### ✏️ Exercise 2: Inspect Splicing Proportions\n",
    "The plot above shows the ratio of spliced vs. unspliced mRNA.\n",
    "\n",
    "- The pre-endocrine cluster shows high levels of unspliced RNA. What does this indicate w.r.t. transcription?"
   ]
  },
  {
   "cell_type": "markdown",
   "id": "7ad89745",
   "metadata": {
    "auto_added": true
   },
   "source": [
    "## Preprocessing & Filtering\n",
    "Normalization/log‑transform and highly variable gene (HVG) selection shape the signal used for embeddings and velocity moments. For velocity, `scv.pp.filter_and_normalize` also handles gene/cell filtering tailored to splicing layers.\n",
    "In detail, it does the following steps (which if desired can be run individually):\n",
    "\n",
    "1. Filter Genes: keep genes that have at least `min_shared_counts` counts in spliced and unspliced ([documentation](https://scvelo.readthedocs.io/en/stable/scvelo.pp.filter_genes.html#scvelo-pp-filter-genes))\n",
    "2. Normalize Per Cell: normalize each cell by total counts over all genes ([documentation](https://scvelo.readthedocs.io/en/stable/scvelo.pp.normalize_per_cell.html#scvelo.pp.normalize_per_cell))\n",
    "3. Gene Dispersion: extract the `n_top_genes` most highly variable genes in terms of dispersion. As an intuition, dispersion is the variance divided by the mean. ([documentation](https://scvelo.readthedocs.io/en/stable/scvelo.pp.filter_genes_dispersion.html#scvelo.pp.filter_genes_dispersion))"
   ]
  },
  {
   "cell_type": "code",
   "id": "6031a9ab6e1b318c",
   "metadata": {},
   "source": [
    "scv.pp.filter_and_normalize(adata, min_shared_counts=20, n_top_genes=2000)\n",
    "# computing neighbors with scanPy\n",
    "sc.pp.neighbors(adata, n_neighbors=30, n_pcs=30)\n",
    "scv.pp.moments(adata, n_pcs=30, n_neighbors=30)"
   ],
   "outputs": [],
   "execution_count": null
  },
  {
   "cell_type": "code",
   "id": "edff380972bdc0e0",
   "metadata": {},
   "source": [
    "sc.tl.draw_graph(adata)"
   ],
   "outputs": [],
   "execution_count": null
  },
  {
   "cell_type": "code",
   "id": "5935889eebb14816",
   "metadata": {},
   "source": [
    "sc.pl.umap(adata, color=\"clusters\", legend_loc=\"on data\")"
   ],
   "outputs": [],
   "execution_count": null
  },
  {
   "cell_type": "markdown",
   "id": "14bc27032ba94460",
   "metadata": {},
   "source": [
    "## Velocity Estimation using scVelo"
   ]
  },
  {
   "cell_type": "markdown",
   "id": "0ecd6750",
   "metadata": {
    "auto_added": true
   },
   "source": [
    "## RNA Velocity Estimation\n",
    "Moments are computed per cell based on the neighbor graph; models (stochastic/dynamical) relate spliced and unspliced counts to infer transcriptional dynamics. We then build a velocity graph encoding local transition tendencies."
   ]
  },
  {
   "cell_type": "code",
   "id": "a306cd0bf2729637",
   "metadata": {},
   "source": [
    "# Get the RNA velocity estimates.\n",
    "scv.tl.velocity(adata)"
   ],
   "outputs": [],
   "execution_count": null
  },
  {
   "cell_type": "code",
   "id": "386baa7134390e32",
   "metadata": {},
   "source": "scv.tl.velocity_graph(adata, show_progress_bar=False)",
   "outputs": [],
   "execution_count": null
  },
  {
   "cell_type": "code",
   "id": "901e743cad812638",
   "metadata": {},
   "source": [
    "scv.pl.velocity_embedding_stream(adata, basis='umap')"
   ],
   "outputs": [],
   "execution_count": null
  },
  {
   "cell_type": "markdown",
   "id": "2e4e394f7582d9b2",
   "metadata": {},
   "source": [
    "We can visualize specific genes showing changes in their spliced vs unspliced ratios:"
   ]
  },
  {
   "cell_type": "code",
   "id": "75089b63903f546a",
   "metadata": {},
   "source": [
    "scv.pl.velocity(adata, ['Cpe',  'Gnao1', 'Ins2', 'Adk'], ncols=2)"
   ],
   "outputs": [],
   "execution_count": null
  },
  {
   "cell_type": "markdown",
   "id": "a6367a76155892f7",
   "metadata": {},
   "source": [
    "In order to find genes, whose velocity patterns are significantly different among the clusters, we can use `rank_velocity_genes` ([documentation](https://scvelo.readthedocs.io/en/stable/scvelo.tl.rank_velocity_genes.html#scvelo.tl.rank_velocity_genes)).\n",
    "In this we group cells with the `groupby` argument and run a differential expression test. We find genes that have significantly different behaviour in one cluster compared to all other clusters. We can visualize the spliced/unspliced ratio of these genes."
   ]
  },
  {
   "cell_type": "code",
   "id": "aa07c1f70e399912",
   "metadata": {},
   "source": [
    "# Identify key genes that drive the velocity dynamics.\n",
    "scv.tl.rank_velocity_genes(adata, groupby='clusters', min_corr=.5) # Maybe provide some intuition how this is done?\n",
    "\n",
    "df = pd.DataFrame(adata.uns['rank_velocity_genes']['names'])\n",
    "df.head()"
   ],
   "outputs": [],
   "execution_count": null
  },
  {
   "cell_type": "code",
   "id": "1f83bf3eea15e596",
   "metadata": {},
   "source": [
    "# Visualization on clusters.\n",
    "kwargs = dict(frameon=False, size=10, linewidth=1.5)\n",
    "\n",
    "scv.pl.scatter(adata, df['Ngn3 high EP'][:5], ylabel='Ngn3 high EP', **kwargs)\n",
    "scv.pl.scatter(adata, df['Pre-endocrine'][:5], ylabel='Pre-endocrine', **kwargs)"
   ],
   "outputs": [],
   "execution_count": null
  },
  {
   "cell_type": "code",
   "id": "5db426de9f00358a",
   "metadata": {},
   "source": [
    "# Velocity Pseudotime\n",
    "scv.tl.velocity_pseudotime(adata)\n",
    "scv.pl.scatter(adata, color='velocity_pseudotime', cmap='gnuplot')"
   ],
   "outputs": [],
   "execution_count": null
  },
  {
   "cell_type": "markdown",
   "id": "2da9482a-1dd1-4c4b-a935-714f964dd717",
   "metadata": {},
   "source": [
    "### ✏️ Exercise 3: Exploring Velocities\n",
    "\n",
    "- It is your turn to explore RNA velocities. Pick out your favorite gene (or any of your choice) and visualize its velocity and expression. Is it aligned with the pseudotime?"
   ]
  },
  {
   "cell_type": "markdown",
   "id": "c888367b389f5e5a",
   "metadata": {},
   "source": [
    "## Diffusion Pseudotime\n",
    "\n",
    "In many cases we might not have spliced and unspliced gene ratios. To still estimate progressions throughout datasets, one can use diffusion pseudotime (DPT). DPT computes diffusion-based similarities between cells and, from a chosen starting cell, derives a virtual ordering of cells along probable trajectories [[Haghverdi et al., 2016](https://doi.org/10.1038/nmeth.3971)]."
   ]
  },
  {
   "cell_type": "markdown",
   "id": "efac5f5a",
   "metadata": {
    "auto_added": true
   },
   "source": [
    "### Diffusion Pseudotime vs. RNA Velocity: What and Why\n",
    "\n",
    "**Diffusion Pseudotime (concept):** Orders cells along a presumed progression using *current* transcriptomic similarity. It assumes gradual, monotonic changes between states. The output is a **relative ordering** (a scalar per cell), not absolute time. It is sensitive to trajectory choice, branching, and root selection.\n",
    "\n",
    "**RNA Velocity (concept):** Estimates a cell’s **near‑future transcriptional direction** by modeling ratios of **spliced vs. unspliced** transcripts (or analogous kinetics). The output is a **vector field** on the embedding that can indicate flows toward fate decisions. It depends on modeling assumptions and data quality (depth, capture of unspliced reads).\n",
    "\n",
    "**Core differences:** Pseudotime yields a 1D ordering without inherent directionality; RNA velocity provides directed transitions over short time scales. Pseudotime is broadly applicable without splicing layers; velocity offers mechanistic direction but requires reliable splicing quantification and appropriate modeling."
   ]
  },
  {
   "cell_type": "code",
   "id": "c0b6e0d7b16c835c",
   "metadata": {},
   "source": [
    "# PAGA = partition based graph abstraction\n",
    "# Through this function we build a representation of the data, quantifying the connectivity of the different clusters.\n",
    "sc.tl.paga(adata, groups=\"clusters\")\n",
    "sc.pl.paga(adata, color=[\"clusters\"])"
   ],
   "outputs": [],
   "execution_count": null
  },
  {
   "cell_type": "code",
   "id": "71b9022fd9daabe5",
   "metadata": {},
   "source": [
    "# Set a root/start point for the DPT and calculate DPT\n",
    "adata.uns[\"iroot\"] = np.flatnonzero(adata.obs[\"clusters\"] == \"Ductal\")[0]\n",
    "sc.tl.dpt(adata)"
   ],
   "outputs": [],
   "execution_count": null
  },
  {
   "cell_type": "code",
   "id": "29017a963010bc5d",
   "metadata": {},
   "source": [
    "sc.pl.umap(\n",
    "    adata, color=[\"clusters\", \"dpt_pseudotime\"], legend_loc=\"on data\"\n",
    ")"
   ],
   "outputs": [],
   "execution_count": null
  },
  {
   "cell_type": "markdown",
   "id": "8d467ad10b1280a5",
   "metadata": {},
   "source": [
    "Along the Pseudotime, we want to see how the expression of genes changes. For this we decide on a path (i.e. a sequence of clusters) and visualize the expression along that path. We also define the genes we would like to take a look at, a good choice for this are either known marker genes or differentially expressed genes we have found in previous sessions."
   ]
  },
  {
   "cell_type": "code",
   "id": "7e4e2ac160f036d5",
   "metadata": {},
   "source": [
    "# Find own Paths and Genes\n",
    "paths = [\n",
    "    (\"Pseudotime Path\", [\"Ductal\", \"Ngn3 low EP\", \"Ngn3 high EP\", \"Pre-endocrine\", \"Beta\"]),\n",
    "    (\"Velocity Path\", [\"Ductal\", \"Ngn3 low EP\", \"Ngn3 high EP\", \"Pre-endocrine\", \"Alpha\"]),\n",
    "]\n",
    "gene_names = [\"Abcc8\", \"Ptprs\", \"Pclo\", \"Pam\"]\n",
    "adata.obs[\"distance\"] = adata.obs[\"dpt_pseudotime\"]\n",
    "_, axs = plt.subplots(\n",
    "    ncols=2, figsize=(6, 2.5), gridspec_kw={\"wspace\": 0.05, \"left\": 0.12}\n",
    ")\n",
    "plt.subplots_adjust(left=0.05, right=0.98, top=0.82, bottom=0.2)\n",
    "for ipath, (descr, path) in enumerate(paths):\n",
    "    data = sc.pl.paga_path(\n",
    "        adata,\n",
    "        path,\n",
    "        gene_names,\n",
    "        show_node_names=False,\n",
    "        ax=axs[ipath],\n",
    "        ytick_fontsize=12,\n",
    "        left_margin=0.15,\n",
    "        n_avg=50,\n",
    "        annotations=[\"distance\"],\n",
    "        show_yticks=True if ipath == 0 else False,\n",
    "        show_colorbar=False,\n",
    "        color_map=\"Greys\",\n",
    "        groups_key=\"clusters\",\n",
    "        color_maps_annotations={\"distance\": \"viridis\"},\n",
    "        title=\"{} path\".format(descr),\n",
    "        return_data=True,\n",
    "        show=False,\n",
    "    )\n",
    "plt.show()"
   ],
   "outputs": [],
   "execution_count": null
  },
  {
   "cell_type": "markdown",
   "id": "c78d1f8a8a8aaba3",
   "metadata": {},
   "source": [
    "### ✏️ Exercise 4: Diffusion Pseudotime\n",
    "- We have set the root for the Pseudotime. What happens if we change the root? Is there an optimal starting point?\n",
    "- Why did we choose the paths in the Pseudotime? Can you think of other possible Paths? How would you interpret the results?"
   ]
  },
  {
   "cell_type": "markdown",
   "id": "e44be26591626e28",
   "metadata": {},
   "source": [
    "## Comparison of Pseudotime and RNA Velocity"
   ]
  },
  {
   "cell_type": "markdown",
   "id": "a62abe21b3ef920d",
   "metadata": {},
   "source": [
    "Both pseudotime and rna velocity can be used to order cells along a trajectory, but they do so in different ways. Diffusion based pseudotime orders cells based on their current state, while RNA velocity predicts the future state of cells based on their current transcriptional dynamics. Naturally the question arises whether these two methods yield similar results. We can compare the two methods by visualizing the pseudotime and velocity pseudotime on the same UMAP embedding."
   ]
  },
  {
   "cell_type": "code",
   "id": "32ffa61bf002614e",
   "metadata": {},
   "source": [
    "sc.pl.umap(\n",
    "    adata, color=[\"clusters\", \"dpt_pseudotime\", \"velocity_pseudotime\"], legend_loc=\"on data\"\n",
    ")"
   ],
   "outputs": [],
   "execution_count": null
  },
  {
   "cell_type": "markdown",
   "id": "d81cc9c959f87332",
   "metadata": {},
   "source": [
    "We can also redraw the UMAP based on the PAGA graph computation: *What actually does PAGA stands for?"
   ]
  },
  {
   "cell_type": "code",
   "id": "ecbac3e72eaf09ea",
   "metadata": {},
   "source": [
    "# redraw graph based on paga\n",
    "sc.tl.umap(adata, init_pos=\"paga\", key_added=\"umap_paga\")"
   ],
   "outputs": [],
   "execution_count": null
  },
  {
   "cell_type": "code",
   "id": "e455f106975e4c36",
   "metadata": {},
   "source": [
    "sc.pl.embedding(adata, basis=\"umap\", color=[\"clusters\", \"dpt_pseudotime\", \"velocity_pseudotime\"], legend_loc=\"on data\")\n",
    "sc.pl.embedding(adata, basis=\"umap_paga\", color=[\"clusters\", \"dpt_pseudotime\", \"velocity_pseudotime\"], legend_loc=\"on data\")"
   ],
   "outputs": [],
   "execution_count": null
  },
  {
   "cell_type": "markdown",
   "id": "34d9d5d16ebd7be4",
   "metadata": {},
   "source": [
    "### ✏️ Exercise 5: Comparison of Pseudotime Inference Methods\n",
    "- What are the differences in the two pseudotimes? Discuss differences in the methods as well as up and downsides of the two methods\n",
    "- When is which method preferable? Give an example scenario for each\n",
    "- What could be common pitfalls when interpreting the results?\n",
    "- Compare the the two UMAP representations (with/without PAGA adjustment). Where do these differences come from? Is there a correct representation?"
   ]
  },
  {
   "cell_type": "markdown",
   "id": "1522e8e5",
   "metadata": {},
   "source": [
    "## 🔄 Adapting the Notebook to Other Datasets\n",
    "\n",
    "This notebook currently uses the built-in pancreas dataset from `scv.datasets`. To adapt it:\n",
    "\n",
    "1. **Load a different dataset:**\n",
    "   ```python\n",
    "   adata = scv.datasets.dentategyrus()\n",
    "   ```\n",
    "   Or load your own `.h5ad` file:\n",
    "   ```python\n",
    "   adata = sc.read_h5ad('my_dataset.h5ad')\n",
    "   ```\n",
    "\n",
    "2. **Check that spliced/unspliced layers exist:**\n",
    "   Velocity analysis requires `adata.layers['spliced']` and `adata.layers['unspliced']`.\n",
    "   If missing, you need to generate them from raw sequencing data.\n",
    "\n",
    "3. **Update metadata fields:**\n",
    "   - Some plots assume clusters are stored in `adata.obs['clusters']`. If your dataset uses a different column (e.g., `cell_type`), update the plotting functions accordingly.\n",
    "\n",
    "4. **Tune preprocessing parameters:**\n",
    "   - Adjust `n_top_genes`, `n_neighbors`, and `n_pcs` depending on dataset size and complexity.\n",
    "\n",
    "👉 By following these steps, you can reuse this notebook for a wide range of single-cell datasets. In case something does not work, use chatGPT or other language models to assis you in the code generation."
   ]
  }
 ],
 "metadata": {
  "kernelspec": {
   "display_name": "Python (venvTest)",
   "language": "python",
   "name": "venvtestscratch"
  },
  "language_info": {
   "codemirror_mode": {
    "name": "ipython",
    "version": 3
   },
   "file_extension": ".py",
   "mimetype": "text/x-python",
   "name": "python",
   "nbconvert_exporter": "python",
   "pygments_lexer": "ipython3",
   "version": "3.12.3"
  }
 },
 "nbformat": 4,
 "nbformat_minor": 5
}
